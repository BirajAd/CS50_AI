{
 "cells": [
  {
   "cell_type": "code",
   "execution_count": 94,
   "metadata": {},
   "outputs": [],
   "source": [
    "import cv2\n",
    "import numpy as np\n",
    "import os\n",
    "import sys\n",
    "import tensorflow as tf\n",
    "import matplotlib.pyplot as plt\n",
    "\n",
    "from sklearn.model_selection import train_test_split\n",
    "\n",
    "EPOCHS = 40\n",
    "IMG_WIDTH = 30\n",
    "IMG_HEIGHT = 30\n",
    "NUM_CATEGORIES = 43 #43 in big data-set\n",
    "TEST_SIZE = 0.4 #.4 in big data-set"
   ]
  },
  {
   "cell_type": "code",
   "execution_count": 64,
   "metadata": {},
   "outputs": [],
   "source": [
    "def load_data(data_dir):\n",
    "    \"\"\"\n",
    "    Load image data from directory `data_dir`.\n",
    "\n",
    "    Assume `data_dir` has one directory named after each category, numbered\n",
    "    0 through NUM_CATEGORIES - 1. Inside each category directory will be some\n",
    "    number of image files.\n",
    "\n",
    "    Return tuple `(images, labels)`. `images` should be a list of all\n",
    "    of the images in the data directory, where each image is formatted as a\n",
    "    numpy ndarray with dimensions IMG_WIDTH x IMG_HEIGHT x 3. `labels` should\n",
    "    be a list of integer labels, representing the categories for each of the\n",
    "    corresponding `images`.\n",
    "    \"\"\"\n",
    "    import progressbar\n",
    "    from time import sleep\n",
    "\n",
    "    # bar = progressbar.ProgressBar(maxval=150, widgets=[progressbar.Bar('=', '[', ']'), ' ', progressbar.Percentage()])\n",
    "    images = []\n",
    "    labels = []\n",
    "    for repo in os.listdir(data_dir)[1:]:\n",
    "        print(f\"working on repo: {repo}\")\n",
    "        for img in os.listdir(os.path.join(data_dir,repo)):\n",
    "            temp = cv2.imread(os.path.join(data_dir,repo,img))\n",
    "            temp = tf.image.convert_image_dtype(temp, tf.float32)\n",
    "            temp = tf.image.resize(temp, (30,30))\n",
    "            # temp = temp/255\n",
    "            if temp.shape != (30,30,3):\n",
    "                print(temp.shape)\n",
    "            images.append(temp)\n",
    "            labels.append(int(repo))\n",
    "            \n",
    "    return (images, labels)"
   ]
  },
  {
   "cell_type": "code",
   "execution_count": 65,
   "metadata": {},
   "outputs": [
    {
     "name": "stdout",
     "output_type": "stream",
     "text": [
      "working on repo: 1\n",
      "working on repo: 10\n",
      "working on repo: 11\n",
      "working on repo: 12\n",
      "working on repo: 13\n",
      "working on repo: 14\n",
      "working on repo: 15\n",
      "working on repo: 16\n",
      "working on repo: 17\n",
      "working on repo: 18\n",
      "working on repo: 19\n",
      "working on repo: 2\n",
      "working on repo: 20\n",
      "working on repo: 21\n",
      "working on repo: 22\n",
      "working on repo: 23\n",
      "working on repo: 24\n",
      "working on repo: 25\n",
      "working on repo: 26\n",
      "working on repo: 27\n",
      "working on repo: 28\n",
      "working on repo: 29\n",
      "working on repo: 3\n",
      "working on repo: 30\n",
      "working on repo: 31\n",
      "working on repo: 32\n",
      "working on repo: 33\n",
      "working on repo: 34\n",
      "working on repo: 35\n",
      "working on repo: 36\n",
      "working on repo: 37\n",
      "working on repo: 38\n",
      "working on repo: 39\n",
      "working on repo: 4\n",
      "working on repo: 40\n",
      "working on repo: 41\n",
      "working on repo: 42\n",
      "working on repo: 5\n",
      "working on repo: 6\n",
      "working on repo: 7\n",
      "working on repo: 8\n",
      "working on repo: 9\n"
     ]
    }
   ],
   "source": [
    "images, labels = load_data('./train/')"
   ]
  },
  {
   "cell_type": "code",
   "execution_count": 66,
   "metadata": {},
   "outputs": [],
   "source": [
    "def get_model():\n",
    "    \"\"\"\n",
    "    Returns a compiled convolutional neural network model. Assume that the\n",
    "    `input_shape` of the first layer is `(IMG_WIDTH, IMG_HEIGHT, 3)`.\n",
    "    The output layer should have `NUM_CATEGORIES` units, one for each category.\n",
    "    \"\"\"\n",
    "    model = tf.keras.models.Sequential([\n",
    "        #convolution layer with 32 filters using a 3x3 kernel\n",
    "        tf.keras.layers.Conv2D(\n",
    "            32, (3, 3), activation=\"relu\",input_shape=(30,30,3)\n",
    "        ),\n",
    "\n",
    "        # Max-pooling layer, using 2x2 pool size\n",
    "        tf.keras.layers.MaxPooling2D(pool_size=(2,2)),\n",
    "\n",
    "        tf.keras.layers.Conv2D(\n",
    "            32, (3, 3), activation=\"relu\"\n",
    "        ),\n",
    "\n",
    "        # Max-pooling layer, using 2x2 pool size\n",
    "        tf.keras.layers.MaxPooling2D(pool_size=(2,2)),\n",
    "\n",
    "        tf.keras.layers.Conv2D(\n",
    "            32, (3, 3), activation=\"relu\"\n",
    "        ),\n",
    "\n",
    "        # Max-pooling layer, using 2x2 pool size\n",
    "        tf.keras.layers.MaxPooling2D(pool_size=(2,2)),\n",
    "\n",
    "        #flatten units\n",
    "        tf.keras.layers.Flatten(),\n",
    "\n",
    "        #Add a hidden layer without dropout\n",
    "        tf.keras.layers.Dense(512, activation=\"relu\"),\n",
    "        tf.keras.layers.Dense(128, activation=\"relu\"),\n",
    "        tf.keras.layers.Dropout(0.5),\n",
    "\n",
    "        #Add an output layer with output units for all (43 for large dataset) 3 categories\n",
    "        tf.keras.layers.Dense(NUM_CATEGORIES, activation=\"softmax\")\n",
    "    ])\n",
    "\n",
    "    model.compile(\n",
    "        optimizer = \"adam\",\n",
    "        loss=\"categorical_crossentropy\",\n",
    "        metrics=[\"accuracy\"]\n",
    "    )\n",
    "\n",
    "    return model"
   ]
  },
  {
   "cell_type": "code",
   "execution_count": 83,
   "metadata": {},
   "outputs": [
    {
     "name": "stdout",
     "output_type": "stream",
     "text": [
      "38999 38999\n",
      "[0. 0. 0. 0. 0. 0. 0. 0. 0. 0. 0. 0. 0. 0. 0. 0. 0. 0. 0. 0. 0. 0. 0. 0.\n",
      " 0. 0. 0. 0. 0. 0. 0. 0. 0. 0. 0. 0. 0. 0. 1. 0. 0. 0. 0.]\n"
     ]
    },
    {
     "data": {
      "image/png": "[encoded data removed]",
      "text/plain": [
       "<Figure size 640x480 with 1 Axes>"
      ]
     },
     "metadata": {},
     "output_type": "display_data"
    }
   ],
   "source": [
    "print(len(images), len(labels))\n",
    "print(labels[29000])\n",
    "plt.imshow(images[29000])\n",
    "plt.show()"
   ]
  },
  {
   "cell_type": "code",
   "execution_count": 72,
   "metadata": {},
   "outputs": [],
   "source": [
    "# Split data into training and testing sets\n",
    "labels = tf.keras.utils.to_categorical(labels)\n",
    "x_train, x_test, y_train, y_test = train_test_split(\n",
    "    np.array(images), np.array(labels), test_size=TEST_SIZE\n",
    ")"
   ]
  },
  {
   "cell_type": "code",
   "execution_count": 41,
   "metadata": {},
   "outputs": [
    {
     "data": {
      "text/plain": [
       "(38999, 43)"
      ]
     },
     "execution_count": 41,
     "metadata": {},
     "output_type": "execute_result"
    }
   ],
   "source": []
  },
  {
   "cell_type": "code",
   "execution_count": 95,
   "metadata": {},
   "outputs": [
    {
     "name": "stdout",
     "output_type": "stream",
     "text": [
      "(23399, 30, 30, 3) (23399, 43) (15600, 30, 30, 3) (15600, 43)\n",
      "Epoch 1/40\n",
      "732/732 [==============================] - 6s 7ms/step - loss: 2.2215 - accuracy: 0.3518\n",
      "Epoch 2/40\n",
      "732/732 [==============================] - 5s 7ms/step - loss: 0.8185 - accuracy: 0.7303\n",
      "Epoch 3/40\n",
      "732/732 [==============================] - 5s 7ms/step - loss: 0.3868 - accuracy: 0.8772\n",
      "Epoch 4/40\n",
      "732/732 [==============================] - 5s 7ms/step - loss: 0.2442 - accuracy: 0.9233\n",
      "Epoch 5/40\n",
      "732/732 [==============================] - 5s 7ms/step - loss: 0.1715 - accuracy: 0.9478\n",
      "Epoch 6/40\n",
      "732/732 [==============================] - 5s 7ms/step - loss: 0.1334 - accuracy: 0.9582\n",
      "Epoch 7/40\n",
      "732/732 [==============================] - 5s 7ms/step - loss: 0.1165 - accuracy: 0.9655\n",
      "Epoch 8/40\n",
      "732/732 [==============================] - 5s 7ms/step - loss: 0.0811 - accuracy: 0.9759\n",
      "Epoch 9/40\n",
      "732/732 [==============================] - 5s 7ms/step - loss: 0.0777 - accuracy: 0.9772\n",
      "Epoch 10/40\n",
      "732/732 [==============================] - 5s 7ms/step - loss: 0.0793 - accuracy: 0.9752\n",
      "Epoch 11/40\n",
      "732/732 [==============================] - 5s 7ms/step - loss: 0.0547 - accuracy: 0.9831\n",
      "Epoch 12/40\n",
      "732/732 [==============================] - 5s 7ms/step - loss: 0.0531 - accuracy: 0.9838\n",
      "Epoch 13/40\n",
      "732/732 [==============================] - 5s 7ms/step - loss: 0.0481 - accuracy: 0.9852\n",
      "Epoch 14/40\n",
      "732/732 [==============================] - 5s 7ms/step - loss: 0.0499 - accuracy: 0.9856\n",
      "Epoch 15/40\n",
      "732/732 [==============================] - 6s 8ms/step - loss: 0.0472 - accuracy: 0.9875\n",
      "Epoch 16/40\n",
      "732/732 [==============================] - 6s 8ms/step - loss: 0.0461 - accuracy: 0.9864\n",
      "Epoch 17/40\n",
      "732/732 [==============================] - 5s 7ms/step - loss: 0.0361 - accuracy: 0.9888\n",
      "Epoch 18/40\n",
      "732/732 [==============================] - 5s 7ms/step - loss: 0.0415 - accuracy: 0.9881\n",
      "Epoch 19/40\n",
      "732/732 [==============================] - 5s 7ms/step - loss: 0.0329 - accuracy: 0.9903\n",
      "Epoch 20/40\n",
      "732/732 [==============================] - 6s 8ms/step - loss: 0.0382 - accuracy: 0.9885\n",
      "Epoch 21/40\n",
      "732/732 [==============================] - 6s 8ms/step - loss: 0.0206 - accuracy: 0.9941\n",
      "Epoch 22/40\n",
      "732/732 [==============================] - 6s 8ms/step - loss: 0.0306 - accuracy: 0.9911\n",
      "Epoch 23/40\n",
      "732/732 [==============================] - 5s 7ms/step - loss: 0.0350 - accuracy: 0.9908\n",
      "Epoch 24/40\n",
      "732/732 [==============================] - 6s 8ms/step - loss: 0.0265 - accuracy: 0.9922\n",
      "Epoch 25/40\n",
      "732/732 [==============================] - 6s 8ms/step - loss: 0.0271 - accuracy: 0.9923\n",
      "Epoch 26/40\n",
      "732/732 [==============================] - 5s 8ms/step - loss: 0.0398 - accuracy: 0.9900\n",
      "Epoch 27/40\n",
      "732/732 [==============================] - 5s 7ms/step - loss: 0.0374 - accuracy: 0.9903\n",
      "Epoch 28/40\n",
      "732/732 [==============================] - 5s 7ms/step - loss: 0.0264 - accuracy: 0.9935\n",
      "Epoch 29/40\n",
      "732/732 [==============================] - 6s 8ms/step - loss: 0.0236 - accuracy: 0.9944\n",
      "Epoch 30/40\n",
      "732/732 [==============================] - 6s 8ms/step - loss: 0.0259 - accuracy: 0.9934\n",
      "Epoch 31/40\n",
      "732/732 [==============================] - 5s 7ms/step - loss: 0.0250 - accuracy: 0.9940\n",
      "Epoch 32/40\n",
      "732/732 [==============================] - 5s 8ms/step - loss: 0.0285 - accuracy: 0.9932\n",
      "Epoch 33/40\n",
      "732/732 [==============================] - 5s 7ms/step - loss: 0.0334 - accuracy: 0.9915\n",
      "Epoch 34/40\n",
      "732/732 [==============================] - 5s 7ms/step - loss: 0.0249 - accuracy: 0.9939\n",
      "Epoch 35/40\n",
      "732/732 [==============================] - 6s 8ms/step - loss: 0.0169 - accuracy: 0.9955\n",
      "Epoch 36/40\n",
      "732/732 [==============================] - 6s 8ms/step - loss: 0.0250 - accuracy: 0.9940\n",
      "Epoch 37/40\n",
      "732/732 [==============================] - 5s 7ms/step - loss: 0.0248 - accuracy: 0.9935\n",
      "Epoch 38/40\n",
      "732/732 [==============================] - 6s 8ms/step - loss: 0.0257 - accuracy: 0.9941\n",
      "Epoch 39/40\n",
      "732/732 [==============================] - 6s 8ms/step - loss: 0.0273 - accuracy: 0.9932\n",
      "Epoch 40/40\n",
      "732/732 [==============================] - 5s 8ms/step - loss: 0.0189 - accuracy: 0.9953\n",
      "488/488 - 2s - loss: 0.0806 - accuracy: 0.9885 - 2s/epoch - 3ms/step\n"
     ]
    },
    {
     "name": "stderr",
     "output_type": "stream",
     "text": [
      "WARNING:absl:Found untraced functions such as _jit_compiled_convolution_op, _jit_compiled_convolution_op, _jit_compiled_convolution_op, _update_step_xla while saving (showing 4 of 4). These functions will not be directly callable after loading.\n"
     ]
    },
    {
     "name": "stdout",
     "output_type": "stream",
     "text": [
      "INFO:tensorflow:Assets written to: saved_model/assets\n"
     ]
    },
    {
     "name": "stderr",
     "output_type": "stream",
     "text": [
      "INFO:tensorflow:Assets written to: saved_model/assets\n"
     ]
    },
    {
     "name": "stdout",
     "output_type": "stream",
     "text": [
      "Model saved to saved_model.\n"
     ]
    }
   ],
   "source": [
    "# Get a compiled neural network\n",
    "model = get_model()\n",
    "\n",
    "print(x_train.shape, y_train.shape, x_test.shape, y_test.shape)\n",
    "# Fit model on training data\n",
    "model.fit(x_train, y_train, epochs=EPOCHS)\n",
    "\n",
    "# Evaluate neural network performance\n",
    "model.evaluate(x_test,  y_test, verbose=2)\n",
    "\n",
    "# Save model to file\n",
    "# if len(sys.argv) == 3:\n",
    "filename = 'saved_model'\n",
    "model.save(filename)\n",
    "print(f\"Model saved to {filename}.\")"
   ]
  },
  {
   "cell_type": "code",
   "execution_count": 96,
   "metadata": {},
   "outputs": [
    {
     "name": "stdout",
     "output_type": "stream",
     "text": [
      "14\n"
     ]
    },
    {
     "data": {
      "text/plain": [
       "<matplotlib.image.AxesImage at 0x7f08a5981190>"
      ]
     },
     "execution_count": 96,
     "metadata": {},
     "output_type": "execute_result"
    },
    {
     "data": {
      "image/png": "[encoded data removed]",
      "text/plain": [
       "<Figure size 640x480 with 1 Axes>"
      ]
     },
     "metadata": {},
     "output_type": "display_data"
    }
   ],
   "source": [
    "print(labels[10000].argmax())\n",
    "plt.imshow(images[10000])"
   ]
  }
 ],
 "metadata": {
  "kernelspec": {
   "display_name": "Python 3",
   "language": "python",
   "name": "python3"
  },
  "language_info": {
   "codemirror_mode": {
    "name": "ipython",
    "version": 3
   },
   "file_extension": ".py",
   "mimetype": "text/x-python",
   "name": "python",
   "nbconvert_exporter": "python",
   "pygments_lexer": "ipython3",
   "version": "3.7.6"
  },
  "orig_nbformat": 4,
  "vscode": {
   "interpreter": {
    "hash": "d52e062734aff059822489eed25698fdd212b8e2ecba3dc10296d04cc3ced9cd"
   }
  }
 },
 "nbformat": 4,
 "nbformat_minor": 2
}
